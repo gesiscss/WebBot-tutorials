{
 "cells": [
  {
   "attachments": {},
   "cell_type": "markdown",
   "metadata": {},
   "source": [
    "# A quick demo of the WebBotParser"
   ]
  },
  {
   "attachments": {},
   "cell_type": "markdown",
   "metadata": {},
   "source": [
    "### Import the WebBotParser and specify which engine is supposed to be used"
   ]
  },
  {
   "cell_type": "code",
   "execution_count": 1,
   "metadata": {},
   "outputs": [],
   "source": [
    "from webbot import WebBotParser"
   ]
  },
  {
   "attachments": {},
   "cell_type": "markdown",
   "metadata": {},
   "source": [
    "### Extract search results and metadata from a given results page"
   ]
  },
  {
   "cell_type": "code",
   "execution_count": 2,
   "metadata": {},
   "outputs": [
    {
     "data": {
      "text/plain": [
       "{'result type': 'news',\n",
       " 'engine': 'duckduckgo.com',\n",
       " 'query': 'climate change',\n",
       " 'date': Timestamp('2023-01-30 14:23:50')}"
      ]
     },
     "execution_count": 2,
     "metadata": {},
     "output_type": "execute_result"
    }
   ],
   "source": [
    "parser = WebBotParser(engine = 'DuckDuckGo News')\n",
    "file = './testdata/duckduckgo.com_climate change_news_2023-01-30_14_23_50.html'\n",
    "metadata, results = parser.get_results(file, with_metadata=True)\n",
    "metadata"
   ]
  },
  {
   "cell_type": "code",
   "execution_count": 3,
   "metadata": {},
   "outputs": [
    {
     "data": {
      "text/html": [
       "<div>\n",
       "<style scoped>\n",
       "    .dataframe tbody tr th:only-of-type {\n",
       "        vertical-align: middle;\n",
       "    }\n",
       "\n",
       "    .dataframe tbody tr th {\n",
       "        vertical-align: top;\n",
       "    }\n",
       "\n",
       "    .dataframe thead th {\n",
       "        text-align: right;\n",
       "    }\n",
       "</style>\n",
       "<table border=\"1\" class=\"dataframe\">\n",
       "  <thead>\n",
       "    <tr style=\"text-align: right;\">\n",
       "      <th></th>\n",
       "      <th>title</th>\n",
       "      <th>link</th>\n",
       "      <th>text</th>\n",
       "      <th>source</th>\n",
       "      <th>has_image</th>\n",
       "      <th>published</th>\n",
       "    </tr>\n",
       "  </thead>\n",
       "  <tbody>\n",
       "    <tr>\n",
       "      <th>0</th>\n",
       "      <td>Living With Climate Change: Want a rebate to u...</td>\n",
       "      <td>https://www.finanzen.ch/nachrichten/aktien/liv...</td>\n",
       "      <td>Consumer rebates for home electrification are ...</td>\n",
       "      <td>Finanzen</td>\n",
       "      <td>False</td>\n",
       "      <td>2 days ago</td>\n",
       "    </tr>\n",
       "    <tr>\n",
       "      <th>1</th>\n",
       "      <td>Mit Technologien das Klima schützen? Warum Deu...</td>\n",
       "      <td>https://web.de/magazine/wissen/klima/deutschla...</td>\n",
       "      <td>Um die globale Erderwärmung auf 1,5 Grad Celsi...</td>\n",
       "      <td>Web.de</td>\n",
       "      <td>True</td>\n",
       "      <td>9 days ago</td>\n",
       "    </tr>\n",
       "    <tr>\n",
       "      <th>2</th>\n",
       "      <td>Living With Climate Change: How to invest in '...</td>\n",
       "      <td>https://www.finanzen.ch/nachrichten/aktien/liv...</td>\n",
       "      <td>Replacing traditional steel with 'green steel'...</td>\n",
       "      <td>Finanzen</td>\n",
       "      <td>False</td>\n",
       "      <td>3 days ago</td>\n",
       "    </tr>\n",
       "    <tr>\n",
       "      <th>3</th>\n",
       "      <td>Hexagon Purus opens new hydrogen cylinder manu...</td>\n",
       "      <td>https://www.wallstreet-online.de/nachricht/164...</td>\n",
       "      <td>The demand for zero-emission mobility &amp; infras...</td>\n",
       "      <td>wallstreet</td>\n",
       "      <td>False</td>\n",
       "      <td>3 hours ago</td>\n",
       "    </tr>\n",
       "    <tr>\n",
       "      <th>4</th>\n",
       "      <td>Black &amp; Veatch: Build Business Resilience with...</td>\n",
       "      <td>https://www.wallstreet-online.de/nachricht/164...</td>\n",
       "      <td>OVERLAND PARK, KS / ACCESSWIRE / January 27, 2...</td>\n",
       "      <td>wallstreet</td>\n",
       "      <td>False</td>\n",
       "      <td>3 days ago</td>\n",
       "    </tr>\n",
       "    <tr>\n",
       "      <th>...</th>\n",
       "      <td>...</td>\n",
       "      <td>...</td>\n",
       "      <td>...</td>\n",
       "      <td>...</td>\n",
       "      <td>...</td>\n",
       "      <td>...</td>\n",
       "    </tr>\n",
       "    <tr>\n",
       "      <th>61</th>\n",
       "      <td>California American Water Applies for Water Re...</td>\n",
       "      <td>https://www.wallstreet-online.de/nachricht/164...</td>\n",
       "      <td>California American Water has supplemented its...</td>\n",
       "      <td>wallstreet</td>\n",
       "      <td>False</td>\n",
       "      <td>3 days ago</td>\n",
       "    </tr>\n",
       "    <tr>\n",
       "      <th>62</th>\n",
       "      <td>Dieser Ameise wurde ein parasitischer Pilz der...</td>\n",
       "      <td>https://www.gmx.net/magazine/wissen/natur-umwe...</td>\n",
       "      <td>Popkultur trifft Wissenschaft: Im Computerspie...</td>\n",
       "      <td>GMX</td>\n",
       "      <td>True</td>\n",
       "      <td>10 days ago</td>\n",
       "    </tr>\n",
       "    <tr>\n",
       "      <th>63</th>\n",
       "      <td>Fortuna reports on Yaramoko's updated reserves...</td>\n",
       "      <td>https://www.wallstreet-online.de/nachricht/164...</td>\n",
       "      <td>VANCOUVER, British Columbia, Jan. 27, 2023 (GL...</td>\n",
       "      <td>wallstreet</td>\n",
       "      <td>False</td>\n",
       "      <td>3 days ago</td>\n",
       "    </tr>\n",
       "    <tr>\n",
       "      <th>64</th>\n",
       "      <td>The Coach Foundation Brings Mentoring to the F...</td>\n",
       "      <td>https://www.wallstreet-online.de/nachricht/164...</td>\n",
       "      <td>NORTHAMPTON, MA / ACCESSWIRE / January 27, 202...</td>\n",
       "      <td>wallstreet</td>\n",
       "      <td>False</td>\n",
       "      <td>3 days ago</td>\n",
       "    </tr>\n",
       "    <tr>\n",
       "      <th>65</th>\n",
       "      <td>Star Group, L.P. to Host Fiscal 2023 First Qua...</td>\n",
       "      <td>https://www.wallstreet-online.de/nachricht/164...</td>\n",
       "      <td>STAMFORD, Conn., Jan. 27, 2023 (GLOBE NEWSWIRE...</td>\n",
       "      <td>wallstreet</td>\n",
       "      <td>False</td>\n",
       "      <td>3 days ago</td>\n",
       "    </tr>\n",
       "  </tbody>\n",
       "</table>\n",
       "<p>66 rows × 6 columns</p>\n",
       "</div>"
      ],
      "text/plain": [
       "                                                title  \\\n",
       "0   Living With Climate Change: Want a rebate to u...   \n",
       "1   Mit Technologien das Klima schützen? Warum Deu...   \n",
       "2   Living With Climate Change: How to invest in '...   \n",
       "3   Hexagon Purus opens new hydrogen cylinder manu...   \n",
       "4   Black & Veatch: Build Business Resilience with...   \n",
       "..                                                ...   \n",
       "61  California American Water Applies for Water Re...   \n",
       "62  Dieser Ameise wurde ein parasitischer Pilz der...   \n",
       "63  Fortuna reports on Yaramoko's updated reserves...   \n",
       "64  The Coach Foundation Brings Mentoring to the F...   \n",
       "65  Star Group, L.P. to Host Fiscal 2023 First Qua...   \n",
       "\n",
       "                                                 link  \\\n",
       "0   https://www.finanzen.ch/nachrichten/aktien/liv...   \n",
       "1   https://web.de/magazine/wissen/klima/deutschla...   \n",
       "2   https://www.finanzen.ch/nachrichten/aktien/liv...   \n",
       "3   https://www.wallstreet-online.de/nachricht/164...   \n",
       "4   https://www.wallstreet-online.de/nachricht/164...   \n",
       "..                                                ...   \n",
       "61  https://www.wallstreet-online.de/nachricht/164...   \n",
       "62  https://www.gmx.net/magazine/wissen/natur-umwe...   \n",
       "63  https://www.wallstreet-online.de/nachricht/164...   \n",
       "64  https://www.wallstreet-online.de/nachricht/164...   \n",
       "65  https://www.wallstreet-online.de/nachricht/164...   \n",
       "\n",
       "                                                 text      source  has_image  \\\n",
       "0   Consumer rebates for home electrification are ...    Finanzen      False   \n",
       "1   Um die globale Erderwärmung auf 1,5 Grad Celsi...      Web.de       True   \n",
       "2   Replacing traditional steel with 'green steel'...    Finanzen      False   \n",
       "3   The demand for zero-emission mobility & infras...  wallstreet      False   \n",
       "4   OVERLAND PARK, KS / ACCESSWIRE / January 27, 2...  wallstreet      False   \n",
       "..                                                ...         ...        ...   \n",
       "61  California American Water has supplemented its...  wallstreet      False   \n",
       "62  Popkultur trifft Wissenschaft: Im Computerspie...         GMX       True   \n",
       "63  VANCOUVER, British Columbia, Jan. 27, 2023 (GL...  wallstreet      False   \n",
       "64  NORTHAMPTON, MA / ACCESSWIRE / January 27, 202...  wallstreet      False   \n",
       "65  STAMFORD, Conn., Jan. 27, 2023 (GLOBE NEWSWIRE...  wallstreet      False   \n",
       "\n",
       "      published  \n",
       "0    2 days ago  \n",
       "1    9 days ago  \n",
       "2    3 days ago  \n",
       "3   3 hours ago  \n",
       "4    3 days ago  \n",
       "..          ...  \n",
       "61   3 days ago  \n",
       "62  10 days ago  \n",
       "63   3 days ago  \n",
       "64   3 days ago  \n",
       "65   3 days ago  \n",
       "\n",
       "[66 rows x 6 columns]"
      ]
     },
     "execution_count": 3,
     "metadata": {},
     "output_type": "execute_result"
    }
   ],
   "source": [
    "results"
   ]
  },
  {
   "attachments": {},
   "cell_type": "markdown",
   "metadata": {},
   "source": [
    "### Only get the metadata"
   ]
  },
  {
   "cell_type": "code",
   "execution_count": 4,
   "metadata": {},
   "outputs": [
    {
     "data": {
      "text/plain": [
       "{'result type': 'text',\n",
       " 'engine': 'www.google.com',\n",
       " 'query': 'climate change',\n",
       " 'page': 3,\n",
       " 'date': Timestamp('2023-01-30 14:18:24'),\n",
       " 'total results': 1620000000}"
      ]
     },
     "execution_count": 4,
     "metadata": {},
     "output_type": "execute_result"
    }
   ],
   "source": [
    "parser = WebBotParser(engine = 'Google Text')\n",
    "file = './testdata/www.google.com_climate change_text_2023-01-30_14_18_24.html'\n",
    "parser.get_metadata(file)"
   ]
  },
  {
   "attachments": {},
   "cell_type": "markdown",
   "metadata": {},
   "source": [
    "### Extract all search results from a directory, in correct order\n",
    "This is particularly useful for search engines that return results in pages, e.g. news results on Google. If more results are loaded by scrolling (e.g. DuckDuckGo text results), we don't need this."
   ]
  },
  {
   "cell_type": "code",
   "execution_count": 5,
   "metadata": {},
   "outputs": [
    {
     "data": {
      "text/plain": [
       "{'result type': 'news',\n",
       " 'engine': 'www.google.com',\n",
       " 'query': 'climate change',\n",
       " 'total results': 268000000}"
      ]
     },
     "execution_count": 5,
     "metadata": {},
     "output_type": "execute_result"
    }
   ],
   "source": [
    "parser = WebBotParser(engine = 'Google News')\n",
    "dir = './testdata/google_news/'\n",
    "metadata, results = parser.get_results_from_dir(dir)\n",
    "metadata"
   ]
  },
  {
   "cell_type": "code",
   "execution_count": 6,
   "metadata": {},
   "outputs": [
    {
     "data": {
      "text/html": [
       "<div>\n",
       "<style scoped>\n",
       "    .dataframe tbody tr th:only-of-type {\n",
       "        vertical-align: middle;\n",
       "    }\n",
       "\n",
       "    .dataframe tbody tr th {\n",
       "        vertical-align: top;\n",
       "    }\n",
       "\n",
       "    .dataframe thead th {\n",
       "        text-align: right;\n",
       "    }\n",
       "</style>\n",
       "<table border=\"1\" class=\"dataframe\">\n",
       "  <thead>\n",
       "    <tr style=\"text-align: right;\">\n",
       "      <th></th>\n",
       "      <th>title</th>\n",
       "      <th>link</th>\n",
       "      <th>text</th>\n",
       "      <th>source</th>\n",
       "      <th>has_image</th>\n",
       "      <th>published</th>\n",
       "      <th>date</th>\n",
       "      <th>page</th>\n",
       "      <th>position</th>\n",
       "    </tr>\n",
       "  </thead>\n",
       "  <tbody>\n",
       "    <tr>\n",
       "      <th>45</th>\n",
       "      <td>South Korea, Qatar to take on climate change w...</td>\n",
       "      <td>https://dohanews.co/south-korea-qatar-to-take-...</td>\n",
       "      <td>South Korea, Qatar to take on climate change w...</td>\n",
       "      <td>Doha News | Qatar</td>\n",
       "      <td>True</td>\n",
       "      <td>vor 5 Stunden</td>\n",
       "      <td>2023-01-30 14:19:08</td>\n",
       "      <td>5</td>\n",
       "      <td>5</td>\n",
       "    </tr>\n",
       "    <tr>\n",
       "      <th>46</th>\n",
       "      <td>Black communities in Norfolk see major climate...</td>\n",
       "      <td>https://www.bayjournal.com/news/climate_change...</td>\n",
       "      <td>He blames climate change. “As far as I'm conce...</td>\n",
       "      <td>Bay Journal</td>\n",
       "      <td>True</td>\n",
       "      <td>vor 7 Stunden</td>\n",
       "      <td>2023-01-30 14:19:08</td>\n",
       "      <td>5</td>\n",
       "      <td>6</td>\n",
       "    </tr>\n",
       "    <tr>\n",
       "      <th>47</th>\n",
       "      <td>To Make Progress on Climate Action, Pop ‘Norma...</td>\n",
       "      <td>https://behavioralscientist.org/to-make-progre...</td>\n",
       "      <td>Beliefs about climate change, political orient...</td>\n",
       "      <td>Behavioral Scientist</td>\n",
       "      <td>True</td>\n",
       "      <td>vor 3 Stunden</td>\n",
       "      <td>2023-01-30 14:19:08</td>\n",
       "      <td>5</td>\n",
       "      <td>7</td>\n",
       "    </tr>\n",
       "    <tr>\n",
       "      <th>48</th>\n",
       "      <td>Why bipartisan efforts on climate can help sav...</td>\n",
       "      <td>https://www.deseret.com/2023/1/29/23567515/win...</td>\n",
       "      <td>Our planet is the common denominator. In recen...</td>\n",
       "      <td>Deseret News</td>\n",
       "      <td>True</td>\n",
       "      <td>vor 9 Stunden</td>\n",
       "      <td>2023-01-30 14:19:08</td>\n",
       "      <td>5</td>\n",
       "      <td>8</td>\n",
       "    </tr>\n",
       "    <tr>\n",
       "      <th>49</th>\n",
       "      <td>South Africa supports calls for global co-oper...</td>\n",
       "      <td>https://www.zawya.com/en/press-release/events-...</td>\n",
       "      <td>South Africa supports calls for global co-oper...</td>\n",
       "      <td>ZAWYA</td>\n",
       "      <td>True</td>\n",
       "      <td>vor 2 Stunden</td>\n",
       "      <td>2023-01-30 14:19:08</td>\n",
       "      <td>5</td>\n",
       "      <td>9</td>\n",
       "    </tr>\n",
       "  </tbody>\n",
       "</table>\n",
       "</div>"
      ],
      "text/plain": [
       "                                                title  \\\n",
       "45  South Korea, Qatar to take on climate change w...   \n",
       "46  Black communities in Norfolk see major climate...   \n",
       "47  To Make Progress on Climate Action, Pop ‘Norma...   \n",
       "48  Why bipartisan efforts on climate can help sav...   \n",
       "49  South Africa supports calls for global co-oper...   \n",
       "\n",
       "                                                 link  \\\n",
       "45  https://dohanews.co/south-korea-qatar-to-take-...   \n",
       "46  https://www.bayjournal.com/news/climate_change...   \n",
       "47  https://behavioralscientist.org/to-make-progre...   \n",
       "48  https://www.deseret.com/2023/1/29/23567515/win...   \n",
       "49  https://www.zawya.com/en/press-release/events-...   \n",
       "\n",
       "                                                 text                source  \\\n",
       "45  South Korea, Qatar to take on climate change w...     Doha News | Qatar   \n",
       "46  He blames climate change. “As far as I'm conce...           Bay Journal   \n",
       "47  Beliefs about climate change, political orient...  Behavioral Scientist   \n",
       "48  Our planet is the common denominator. In recen...          Deseret News   \n",
       "49  South Africa supports calls for global co-oper...                 ZAWYA   \n",
       "\n",
       "    has_image      published                date  page  position  \n",
       "45       True  vor 5 Stunden 2023-01-30 14:19:08     5         5  \n",
       "46       True  vor 7 Stunden 2023-01-30 14:19:08     5         6  \n",
       "47       True  vor 3 Stunden 2023-01-30 14:19:08     5         7  \n",
       "48       True  vor 9 Stunden 2023-01-30 14:19:08     5         8  \n",
       "49       True  vor 2 Stunden 2023-01-30 14:19:08     5         9  "
      ]
     },
     "execution_count": 6,
     "metadata": {},
     "output_type": "execute_result"
    }
   ],
   "source": [
    "results[-5:]"
   ]
  },
  {
   "attachments": {},
   "cell_type": "markdown",
   "metadata": {},
   "source": [
    "### Initialize the WebBotParser with custom queries"
   ]
  },
  {
   "cell_type": "code",
   "execution_count": 7,
   "metadata": {},
   "outputs": [
    {
     "ename": "Exception",
     "evalue": "A result_selector string is required to discriminate individual results on each page.",
     "output_type": "error",
     "traceback": [
      "\u001b[0;31m---------------------------------------------------------------------------\u001b[0m",
      "\u001b[0;31mException\u001b[0m                                 Traceback (most recent call last)",
      "Cell \u001b[0;32mIn[7], line 8\u001b[0m\n\u001b[1;32m      1\u001b[0m \u001b[39mdef\u001b[39;00m \u001b[39mhello_world\u001b[39m(_soup): \u001b[39mreturn\u001b[39;00m \u001b[39m'\u001b[39m\u001b[39mHello World\u001b[39m\u001b[39m'\u001b[39m\n\u001b[1;32m      3\u001b[0m queries \u001b[39m=\u001b[39m [\n\u001b[1;32m      4\u001b[0m         {\u001b[39m'\u001b[39m\u001b[39mname\u001b[39m\u001b[39m'\u001b[39m: \u001b[39m'\u001b[39m\u001b[39mhello\u001b[39m\u001b[39m'\u001b[39m, \u001b[39m'\u001b[39m\u001b[39mtype\u001b[39m\u001b[39m'\u001b[39m: \u001b[39m'\u001b[39m\u001b[39mcustom\u001b[39m\u001b[39m'\u001b[39m, \u001b[39m'\u001b[39m\u001b[39mfunction\u001b[39m\u001b[39m'\u001b[39m: hello_world}\n\u001b[1;32m      5\u001b[0m         \u001b[39m# ..is how you can pass functions for custom queries. If most queries are custom, rewrite the evaluate_query function instead.\u001b[39;00m\n\u001b[1;32m      6\u001b[0m     ]\n\u001b[0;32m----> 8\u001b[0m parser \u001b[39m=\u001b[39m WebBotParser(queries \u001b[39m=\u001b[39;49m queries)\n",
      "File \u001b[0;32m~/Documents/GESIS/PythonLibrary/webbot.py:97\u001b[0m, in \u001b[0;36mWebBotParser.__init__\u001b[0;34m(self, engine, queries, result_selector, metadata_extractor)\u001b[0m\n\u001b[1;32m     95\u001b[0m         \u001b[39mraise\u001b[39;00m \u001b[39mException\u001b[39;00m(\u001b[39m'\u001b[39m\u001b[39mEngine not supported\u001b[39m\u001b[39m'\u001b[39m)\n\u001b[1;32m     96\u001b[0m \u001b[39melif\u001b[39;00m result_selector \u001b[39m==\u001b[39m \u001b[39m'\u001b[39m\u001b[39m'\u001b[39m:\n\u001b[0;32m---> 97\u001b[0m     \u001b[39mraise\u001b[39;00m \u001b[39mException\u001b[39;00m(\u001b[39m'\u001b[39m\u001b[39mA result_selector string is required to discriminate individual results on each page.\u001b[39m\u001b[39m'\u001b[39m)\n\u001b[1;32m     98\u001b[0m \u001b[39melse\u001b[39;00m:\n\u001b[1;32m     99\u001b[0m     \u001b[39mself\u001b[39m\u001b[39m.\u001b[39mresult_selector \u001b[39m=\u001b[39m result_selector\n",
      "\u001b[0;31mException\u001b[0m: A result_selector string is required to discriminate individual results on each page."
     ]
    }
   ],
   "source": [
    "def hello_world(_soup): return 'Hello World'\n",
    "\n",
    "queries = [\n",
    "        {'name': 'hello', 'type': 'custom', 'function': hello_world}\n",
    "        # ..is how you can pass functions for custom queries. If most queries are custom, rewrite the evaluate_query function instead.\n",
    "    ]\n",
    "\n",
    "parser = WebBotParser(queries = queries)"
   ]
  },
  {
   "cell_type": "code",
   "execution_count": null,
   "metadata": {},
   "outputs": [],
   "source": [
    "parser.get_results('./testdata/www.google.com_climate change_text_2023-01-30_14_18_24.html')"
   ]
  }
 ],
 "metadata": {
  "kernelspec": {
   "display_name": "Python 3",
   "language": "python",
   "name": "python3"
  },
  "language_info": {
   "codemirror_mode": {
    "name": "ipython",
    "version": 3
   },
   "file_extension": ".py",
   "mimetype": "text/x-python",
   "name": "python",
   "nbconvert_exporter": "python",
   "pygments_lexer": "ipython3",
   "version": "3.11.1"
  },
  "orig_nbformat": 4,
  "vscode": {
   "interpreter": {
    "hash": "5c7b89af1651d0b8571dde13640ecdccf7d5a6204171d6ab33e7c296e100e08a"
   }
  }
 },
 "nbformat": 4,
 "nbformat_minor": 2
}
